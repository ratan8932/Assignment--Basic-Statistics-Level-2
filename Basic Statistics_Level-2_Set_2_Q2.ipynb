{
 "cells": [
  {
   "cell_type": "markdown",
   "id": "ad46e7c6",
   "metadata": {},
   "source": [
    "# Basic Statistics_Level-2_Set_2_Q2"
   ]
  },
  {
   "cell_type": "code",
   "execution_count": 1,
   "id": "ca8228f7",
   "metadata": {},
   "outputs": [],
   "source": [
    "from scipy import stats\n",
    "from scipy.stats import norm"
   ]
  },
  {
   "cell_type": "code",
   "execution_count": 2,
   "id": "e49d73fc",
   "metadata": {},
   "outputs": [],
   "source": [
    "# A. More employees at the processing center are older than 44 than between 38 and 44."
   ]
  },
  {
   "cell_type": "code",
   "execution_count": 3,
   "id": "8a07ce22",
   "metadata": {},
   "outputs": [
    {
     "data": {
      "text/plain": [
       "0.15865525393145707"
      ]
     },
     "execution_count": 3,
     "metadata": {},
     "output_type": "execute_result"
    }
   ],
   "source": [
    "# p(X>44); Employees older than 44 yrs of age\n",
    "1-stats.norm.cdf(44,loc=38,scale=6)"
   ]
  },
  {
   "cell_type": "code",
   "execution_count": 4,
   "id": "2c6ca770",
   "metadata": {},
   "outputs": [
    {
     "data": {
      "text/plain": [
       "0.3413447460685429"
      ]
     },
     "execution_count": 4,
     "metadata": {},
     "output_type": "execute_result"
    }
   ],
   "source": [
    "# p(38<X<44); Employees between 38 to 44 yrs of age\n",
    "stats.norm.cdf(44,38,6)-stats.norm.cdf(38,38,6)"
   ]
  },
  {
   "cell_type": "code",
   "execution_count": 5,
   "id": "296a4796",
   "metadata": {},
   "outputs": [],
   "source": [
    "# B. A training program for employees under the age of 30 at the center would be expected to attract about 36 employees."
   ]
  },
  {
   "cell_type": "code",
   "execution_count": 6,
   "id": "97ccf53b",
   "metadata": {},
   "outputs": [
    {
     "data": {
      "text/plain": [
       "0.09121121972586788"
      ]
     },
     "execution_count": 6,
     "metadata": {},
     "output_type": "execute_result"
    }
   ],
   "source": [
    "# P(X<30); Employees under 30 yrs of age\n",
    "stats.norm.cdf(30,38,6)"
   ]
  },
  {
   "cell_type": "code",
   "execution_count": 7,
   "id": "a57c63c7",
   "metadata": {},
   "outputs": [
    {
     "data": {
      "text/plain": [
       "36.484487890347154"
      ]
     },
     "execution_count": 7,
     "metadata": {},
     "output_type": "execute_result"
    }
   ],
   "source": [
    "# No. of employees attending training program from 400 nos. is N*P(X<30)\n",
    "400*stats.norm.cdf(30,38,6)"
   ]
  }
 ],
 "metadata": {
  "kernelspec": {
   "display_name": "Python 3 (ipykernel)",
   "language": "python",
   "name": "python3"
  },
  "language_info": {
   "codemirror_mode": {
    "name": "ipython",
    "version": 3
   },
   "file_extension": ".py",
   "mimetype": "text/x-python",
   "name": "python",
   "nbconvert_exporter": "python",
   "pygments_lexer": "ipython3",
   "version": "3.9.12"
  }
 },
 "nbformat": 4,
 "nbformat_minor": 5
}
