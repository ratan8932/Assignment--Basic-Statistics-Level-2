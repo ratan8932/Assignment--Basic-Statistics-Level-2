{
 "cells": [
  {
   "cell_type": "markdown",
   "id": "b3c90e6a",
   "metadata": {},
   "source": [
    "# Basic Statistics_Level-2_Set_2_Q1"
   ]
  },
  {
   "cell_type": "code",
   "execution_count": 1,
   "id": "422089f8",
   "metadata": {},
   "outputs": [],
   "source": [
    "from scipy import stats\n",
    "from scipy.stats import norm"
   ]
  },
  {
   "cell_type": "code",
   "execution_count": 2,
   "id": "7ef5fbda",
   "metadata": {},
   "outputs": [
    {
     "data": {
      "text/plain": [
       "0.625"
      ]
     },
     "execution_count": 2,
     "metadata": {},
     "output_type": "execute_result"
    }
   ],
   "source": [
    "# Find Z-Scores at X=50; Z = (X - µ) / σ \n",
    "Z=(50-45)/8\n",
    "Z"
   ]
  },
  {
   "cell_type": "code",
   "execution_count": 3,
   "id": "5645e0ef",
   "metadata": {},
   "outputs": [
    {
     "data": {
      "text/plain": [
       "0.26598552904870054"
      ]
     },
     "execution_count": 3,
     "metadata": {},
     "output_type": "execute_result"
    }
   ],
   "source": [
    "# Find probability P(X>50) = 1-stats.norm.cdf(abs(z_score))\n",
    "1-stats.norm.cdf(abs(0.625))"
   ]
  },
  {
   "cell_type": "code",
   "execution_count": 4,
   "id": "4fe44165",
   "metadata": {},
   "outputs": [
    {
     "data": {
      "text/plain": [
       "0.7340144709512995"
      ]
     },
     "execution_count": 4,
     "metadata": {},
     "output_type": "execute_result"
    }
   ],
   "source": [
    "# OR Find probability P(X<=50); p_value=stats.norm.cdf(abs(z_score))  \n",
    "p_value=stats.norm.cdf(abs(0.625)) \n",
    "p_value"
   ]
  },
  {
   "cell_type": "code",
   "execution_count": 5,
   "id": "085cb8da",
   "metadata": {},
   "outputs": [
    {
     "data": {
      "text/plain": [
       "0.266"
      ]
     },
     "execution_count": 5,
     "metadata": {},
     "output_type": "execute_result"
    }
   ],
   "source": [
    "# P(X>50) = 1 - P(X<=50)\n",
    "1-0.734"
   ]
  }
 ],
 "metadata": {
  "kernelspec": {
   "display_name": "Python 3 (ipykernel)",
   "language": "python",
   "name": "python3"
  },
  "language_info": {
   "codemirror_mode": {
    "name": "ipython",
    "version": 3
   },
   "file_extension": ".py",
   "mimetype": "text/x-python",
   "name": "python",
   "nbconvert_exporter": "python",
   "pygments_lexer": "ipython3",
   "version": "3.9.12"
  }
 },
 "nbformat": 4,
 "nbformat_minor": 5
}
