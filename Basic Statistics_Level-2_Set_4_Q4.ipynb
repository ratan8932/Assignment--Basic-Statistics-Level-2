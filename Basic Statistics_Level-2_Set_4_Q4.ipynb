{
 "cells": [
  {
   "cell_type": "markdown",
   "id": "c9fafbfe",
   "metadata": {},
   "source": [
    "# Basic Statistics_Level-2_Set_4_Q4"
   ]
  },
  {
   "cell_type": "code",
   "execution_count": 1,
   "id": "97de9ba8",
   "metadata": {},
   "outputs": [],
   "source": [
    "import pandas as pd\n",
    "import numpy as np\n",
    "import matplotlib.pyplot as plt\n",
    "import scipy.stats as stats"
   ]
  },
  {
   "cell_type": "code",
   "execution_count": 2,
   "id": "f7df7f8c",
   "metadata": {},
   "outputs": [
    {
     "name": "stdout",
     "output_type": "stream",
     "text": [
      "The Auditors would like to maintain the probability of investigation to 5%, they should sample 248.0 transactions if they do not want to change the thresholds of 45 to 55\n",
      "248.3776 247.3776\n"
     ]
    },
    {
     "data": {
      "text/plain": [
       "array([45., 55.])"
      ]
     },
     "execution_count": 2,
     "metadata": {},
     "output_type": "execute_result"
    }
   ],
   "source": [
    "x_bar = 45\n",
    "s_std = 40\n",
    "mew = 50\n",
    "\n",
    "t = np.round(stats.t.ppf(0.025, df = 249),2)\n",
    "t\n",
    "\n",
    "# t_value = (x_bar - mew)/(sample_std/n**0.5)\n",
    "# t = 45-50 or z = 55-50 z = +/- 5\n",
    "\n",
    "# t = 5/(40/n**0.5)\n",
    "# n = (sample_standard_deviation*tscore)/(sample_mean=population_mean)\n",
    "n = ((s_std*abs(t)) / (5))**2\n",
    "\n",
    "print('The Auditors would like to maintain the probability of investigation to 5%, they should sample',np.round(n,),'transactions if they do not want to change the thresholds of 45 to 55')\n",
    "\n",
    "df= n-1\n",
    "print(n, df)\n",
    "\n",
    "np.round(stats.t.interval(alpha = 0.95, df = df, loc = mew, scale = s_std/np.sqrt(n)),)"
   ]
  }
 ],
 "metadata": {
  "kernelspec": {
   "display_name": "Python 3 (ipykernel)",
   "language": "python",
   "name": "python3"
  },
  "language_info": {
   "codemirror_mode": {
    "name": "ipython",
    "version": 3
   },
   "file_extension": ".py",
   "mimetype": "text/x-python",
   "name": "python",
   "nbconvert_exporter": "python",
   "pygments_lexer": "ipython3",
   "version": "3.9.12"
  }
 },
 "nbformat": 4,
 "nbformat_minor": 5
}
